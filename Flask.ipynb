{
 "cells": [
  {
   "cell_type": "markdown",
   "id": "desirable-associate",
   "metadata": {},
   "source": [
    "# Job Profiles"
   ]
  },
  {
   "cell_type": "code",
   "execution_count": null,
   "id": "faced-manitoba",
   "metadata": {},
   "outputs": [],
   "source": [
    "UX Designer\n",
    "UI Developer \n",
    "Backend Developer (Python Developer, Data Scientist, DJango Developers)\n"
   ]
  },
  {
   "cell_type": "markdown",
   "id": "plain-tournament",
   "metadata": {},
   "source": [
    "# Python Web FrameWorks"
   ]
  },
  {
   "cell_type": "code",
   "execution_count": null,
   "id": "gentle-alfred",
   "metadata": {},
   "outputs": [],
   "source": [
    "1. Flask\n",
    "2. DJango\n",
    "3. gRPC\n",
    "4. FastAPI"
   ]
  },
  {
   "cell_type": "markdown",
   "id": "efficient-conservative",
   "metadata": {},
   "source": [
    "# Flask"
   ]
  },
  {
   "cell_type": "code",
   "execution_count": null,
   "id": "mathematical-advantage",
   "metadata": {},
   "outputs": [],
   "source": [
    "API >> Application Programming Interface\n",
    "POSTMAN >> Used to test API\n",
    "\n",
    "http >> Hypertext Transfer Protocol\n",
    "https >> Hypertext Transfer Protocol Secure\n",
    "\n",
    "SSL >> Secure Socket Layer\n",
    "SSL certificates\n",
    "https://meet.google.com/erx-uzfk-sob?pli=1&authuser=1\n",
    "    \n",
    "localhost >> 0.0.0.0 >> 127.0.0.1 >> 172.67.2.87\n",
    "        \n",
    "        \n",
    "AWS >> 178.67.2.876:5005\n",
    "GCP\n",
    "Azure\n",
    "\n",
    "178.67.2.876:5005 >>  https://www.accenture.com/in-en\n",
    "                      http://localhost:8888/notebooks/Flask.ipynb\n",
    "                    \n",
    "                    \n",
    "Config file Nginx\n",
    "\n",
    "\n",
    "https://zeenews.india.com/business\n",
    "    \n",
    "WSGI >> Web Server GateWay interface"
   ]
  },
  {
   "cell_type": "code",
   "execution_count": null,
   "id": "strange-california",
   "metadata": {},
   "outputs": [],
   "source": [
    "pip install flask\n",
    "conda install flask"
   ]
  },
  {
   "cell_type": "markdown",
   "id": "loaded-sunrise",
   "metadata": {},
   "source": [
    "#### Base URL"
   ]
  },
  {
   "cell_type": "code",
   "execution_count": null,
   "id": "quantitative-destination",
   "metadata": {},
   "outputs": [],
   "source": [
    "http://127.0.0.1:5000/         # Home Page\n",
    "        "
   ]
  },
  {
   "cell_type": "code",
   "execution_count": null,
   "id": "healthy-woman",
   "metadata": {},
   "outputs": [],
   "source": [
    "http://127.0.0.1:5000/register/user_id=wertyuiojhgfds"
   ]
  },
  {
   "cell_type": "code",
   "execution_count": null,
   "id": "danish-absolute",
   "metadata": {},
   "outputs": [],
   "source": []
  },
  {
   "cell_type": "markdown",
   "id": "removable-underground",
   "metadata": {},
   "source": [
    "# Data"
   ]
  },
  {
   "cell_type": "code",
   "execution_count": null,
   "id": "instructional-internet",
   "metadata": {},
   "outputs": [],
   "source": [
    "JSON\n",
    "CSV\n",
    "Excel\n",
    "Database \n",
    "\n",
    "Raw Data\n",
    "\n",
    "table1 >> 20  >> 15\n",
    "table2 >> 10  >> 6\n",
    "table3 >> 14  >> 8\n",
    "\n",
    "table1 >> df  "
   ]
  }
 ],
 "metadata": {
  "kernelspec": {
   "display_name": "Python 3",
   "language": "python",
   "name": "python3"
  },
  "language_info": {
   "codemirror_mode": {
    "name": "ipython",
    "version": 3
   },
   "file_extension": ".py",
   "mimetype": "text/x-python",
   "name": "python",
   "nbconvert_exporter": "python",
   "pygments_lexer": "ipython3",
   "version": "3.8.7"
  }
 },
 "nbformat": 4,
 "nbformat_minor": 5
}
